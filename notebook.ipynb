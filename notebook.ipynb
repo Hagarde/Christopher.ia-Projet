{
 "cells": [
  {
   "cell_type": "code",
   "metadata": {
    "tags": [],
    "cell_id": "00000-f0d683a0-54ab-46f9-a4af-05b2ee759e39",
    "deepnote_to_be_reexecuted": false,
    "source_hash": "f50b13e7",
    "execution_start": 1622144045164,
    "execution_millis": 469,
    "deepnote_cell_type": "code"
   },
   "source": "import os \nimport numpy as np\nimport matplotlib.pyplot as plt\nfrom params import *\nimport cv2\n# import torchvideo as tv",
   "outputs": [],
   "execution_count": null
  },
  {
   "cell_type": "code",
   "metadata": {
    "tags": [],
    "cell_id": "00002-7acf6984-cb9a-4a5f-b934-088d0a1cd164",
    "deepnote_to_be_reexecuted": false,
    "source_hash": "5725e9b4",
    "execution_start": 1622641428233,
    "execution_millis": 579,
    "deepnote_cell_type": "code"
   },
   "source": "!ls",
   "outputs": [
    {
     "name": "stdout",
     "text": "'Administratif '\r\n'à envoyer au bureau .png'\r\n'AFFICHE SCENIC.desktop'\r\n'Alternance recherche '\r\n AMV\r\n'ANGLAIS '\r\n'attestaion logement.pdf'\r\n BioCOop.desktop\r\n'CA février.desktop'\r\n Centrale\r\n Christopher.ia\r\n'Comptes Spotify .desktop'\r\n'CV avec modèle ORY Victor.desktop'\r\n'Diagramme trop cool PI 20-21.gantter'\r\n'Dinter morceaux '\r\n'DOCU COLOC .desktop'\r\n'Documents Coloc '\r\n'Dossier Tri IA'\r\n'EDF Juin 2020.pdf'\r\n'EP QUIZZ ACTU 18_02.desktop'\r\n'Escape Game préparation .desktop'\r\n Ginfo\r\n grille_search.txt\r\n'Idée repas .desktop'\r\n IMG_20200414_000050.jpg\r\n IMG_20200414_000104.jpg\r\n IMG_20200414_000110.jpg\r\n IMG_20200414_000118.jpg\r\n IMG_20200414_000147.jpg\r\n IMG_20200414_000158.jpg\r\n IMG_20200414_000323.jpg\r\n IMG_20200414_000336.jpg\r\n IMG_20200414_000345.jpg\r\n'IMG_20200414_232858 (afa9ed44).jpg'\r\n IMG_20200414_232858.jpg\r\n'IMG_20200414_233758 (7cc43036).jpg'\r\n IMG_20200414_233758.jpg\r\n'IMG_20200414_233805 (8fb5919f).jpg'\r\n IMG_20200414_233805.jpg\r\n'IMG_20200414_233810 (0cffcb11).jpg'\r\n IMG_20200414_233810.jpg\r\n IMG_20200427_211609.jpg\r\n IMG_20200609_223602.jpg\r\n IMG_20200912_215230.jpg\r\n IMG_20200912_215242.jpg\r\n IMG_20201119_121254.pdf\r\n IMG_20201119_121300.pdf\r\n IMG_20201119_121308.pdf\r\n IMG_20201119_121530.pdf\r\n'Informations Paris Sportifs .desktop'\r\n'Informations Paris Sportifs  (réponses).desktop'\r\n ISF-réseau\r\n\"jerome déclaration d'amour .wav\"\r\n'Les Contacts de la Brocolist .desktop'\r\n'Livre de recettes.desktop'\r\n'Musique SOS '\r\n'ORY Victor'\r\n'ORY Victor CAP 2 Rencontre Ingénieur.desktop'\r\n'Pari : Groupe 1 .desktop'\r\n'Pari : Groupe 2 .desktop'\r\n'Pari : Groupe 3.desktop'\r\n'Partenaire Fleur de LIste .desktop'\r\n PC1\r\n PCSI1\r\n'Petit tuto pour les paris d’aujourd’hui.desktop'\r\n'présentation Alterance Recherche.desktop'\r\n\"Presentation d'une photo anglais .desktop\"\r\n'Prise de Notes Shift Project :.desktop'\r\n'Qu’a fait ISF Provence .desktop'\r\n'QUIZZ ACTUA .desktop'\r\n'QUIZZ ACTU .desktop'\r\n\"Quizz Chef d'Etat .desktop\"\r\n'Résumé Anglais Street Art .desktop'\r\n'Schéma Baie des Serveurs- Câblage .desktop'\r\n Siddhartha\r\n SIR.ipynb\r\n'TIPE ORY-MOREIRA '\r\n'Tutoriel AveyronVictor.desktop'\r\n'Tutoriel Pari Sportif.desktop'\r\n'Tutoriel Paris Sportifs .desktop'\r\n'Tutoriel + Présentation AveyronVictor.desktop'\r\n VID_20200411_235904.mp4\r\n VID_20200412_000315.mp4\r\n VID_20200412_000456.mp4\r\n VID_20200412_000557.mp4\r\n VID_20200412_000627.mp4\r\n VID_20200412_005049.mp4\r\n VID_20200412_005800.mp4\r\n VID_20200412_010027.mp4\r\n VID_20200412_010519.mp4\r\n VID_20200414_171956.mp4\r\n VID_20200414_172133.mp4\r\n VID_20200414_172217.mp4\r\n'VID_20200414_232555 (d1bc9b6c).mp4'\r\n VID_20200414_232555.mp4\r\n'VID_20200414_232813 (d0b2c528).mp4'\r\n VID_20200414_232813.mp4\r\n'VID_20200414_232936 (a5d1e1ae).mp4'\r\n VID_20200414_232936.mp4\r\n'VID_20200414_233359 (a228802d).mp4'\r\n VID_20200414_233359.mp4\r\n'VID_20200414_233429 (af2bcbbb).mp4'\r\n VID_20200414_233429.mp4\r\n VID_20200414_233538.mp4\r\n VID_20200414_234554.mp4\r\n'VID_20200418_232341 (15886628).mp4'\r\n VID_20200418_232341.mp4\r\n'VID_20200419_221421 (00eba2da).mp4'\r\n VID_20200419_221421.mp4\r\n VID_20200421_001118.mp4\r\n VID_20200421_001455.mp4\r\n VID_20200421_001809.mp4\r\n VID_20200421_001949.mp4\r\n VID_20200421_002032.mp4\r\n VID_20200421_002940.mp4\r\n VID_20200421_003012.mp4\r\n VID_20200424_230317.mp4\r\n VID_20200424_230434.mp4\r\n VID_20200424_230717.mp4\r\n VID_20200425_182645.mp4\r\n VID_20200425_182740.mp4\r\n VID_20200425_182959.mp4\r\n VID_20200425_183102.mp4\r\n VID_20200425_183324.mp4\r\n VID_20200425_183603.mp4\r\n VID_20200425_183824.mp4\r\n VID_20200427_150932.mp4\r\n VID_20200427_151017.mp4\r\n'VID_20200427_211738 (a734d77a).mp4'\r\n VID_20200427_211738.mp4\r\n VID_20200428_170859.mp4\r\n VID_20200428_171545.mp4\r\n VID_20200705_221938.mp4\r\n",
     "output_type": "stream"
    }
   ],
   "execution_count": null
  },
  {
   "cell_type": "markdown",
   "source": "<a style='text-decoration:none;line-height:16px;display:flex;color:#5B5B62;padding:10px;justify-content:end;' href='https://deepnote.com?utm_source=created-in-deepnote-cell&projectId=29eff7bb-7336-4128-aac7-73781d5f9521' target=\"_blank\">\n<img alt='Created in deepnote.com' style='display:inline;max-height:16px;margin:0px;margin-right:7.5px;' src='data:image/svg+xml;base64,PD94bWwgdmVyc2lvbj0iMS4wIiBlbmNvZGluZz0iVVRGLTgiPz4KPHN2ZyB3aWR0aD0iODBweCIgaGVpZ2h0PSI4MHB4IiB2aWV3Qm94PSIwIDAgODAgODAiIHZlcnNpb249IjEuMSIgeG1sbnM9Imh0dHA6Ly93d3cudzMub3JnLzIwMDAvc3ZnIiB4bWxuczp4bGluaz0iaHR0cDovL3d3dy53My5vcmcvMTk5OS94bGluayI+CiAgICA8IS0tIEdlbmVyYXRvcjogU2tldGNoIDU0LjEgKDc2NDkwKSAtIGh0dHBzOi8vc2tldGNoYXBwLmNvbSAtLT4KICAgIDx0aXRsZT5Hcm91cCAzPC90aXRsZT4KICAgIDxkZXNjPkNyZWF0ZWQgd2l0aCBTa2V0Y2guPC9kZXNjPgogICAgPGcgaWQ9IkxhbmRpbmciIHN0cm9rZT0ibm9uZSIgc3Ryb2tlLXdpZHRoPSIxIiBmaWxsPSJub25lIiBmaWxsLXJ1bGU9ImV2ZW5vZGQiPgogICAgICAgIDxnIGlkPSJBcnRib2FyZCIgdHJhbnNmb3JtPSJ0cmFuc2xhdGUoLTEyMzUuMDAwMDAwLCAtNzkuMDAwMDAwKSI+CiAgICAgICAgICAgIDxnIGlkPSJHcm91cC0zIiB0cmFuc2Zvcm09InRyYW5zbGF0ZSgxMjM1LjAwMDAwMCwgNzkuMDAwMDAwKSI+CiAgICAgICAgICAgICAgICA8cG9seWdvbiBpZD0iUGF0aC0yMCIgZmlsbD0iIzAyNjVCNCIgcG9pbnRzPSIyLjM3NjIzNzYyIDgwIDM4LjA0NzY2NjcgODAgNTcuODIxNzgyMiA3My44MDU3NTkyIDU3LjgyMTc4MjIgMzIuNzU5MjczOSAzOS4xNDAyMjc4IDMxLjY4MzE2ODMiPjwvcG9seWdvbj4KICAgICAgICAgICAgICAgIDxwYXRoIGQ9Ik0zNS4wMDc3MTgsODAgQzQyLjkwNjIwMDcsNzYuNDU0OTM1OCA0Ny41NjQ5MTY3LDcxLjU0MjI2NzEgNDguOTgzODY2LDY1LjI2MTk5MzkgQzUxLjExMjI4OTksNTUuODQxNTg0MiA0MS42NzcxNzk1LDQ5LjIxMjIyODQgMjUuNjIzOTg0Niw0OS4yMTIyMjg0IEMyNS40ODQ5Mjg5LDQ5LjEyNjg0NDggMjkuODI2MTI5Niw0My4yODM4MjQ4IDM4LjY0NzU4NjksMzEuNjgzMTY4MyBMNzIuODcxMjg3MSwzMi41NTQ0MjUgTDY1LjI4MDk3Myw2Ny42NzYzNDIxIEw1MS4xMTIyODk5LDc3LjM3NjE0NCBMMzUuMDA3NzE4LDgwIFoiIGlkPSJQYXRoLTIyIiBmaWxsPSIjMDAyODY4Ij48L3BhdGg+CiAgICAgICAgICAgICAgICA8cGF0aCBkPSJNMCwzNy43MzA0NDA1IEwyNy4xMTQ1MzcsMC4yNTcxMTE0MzYgQzYyLjM3MTUxMjMsLTEuOTkwNzE3MDEgODAsMTAuNTAwMzkyNyA4MCwzNy43MzA0NDA1IEM4MCw2NC45NjA0ODgyIDY0Ljc3NjUwMzgsNzkuMDUwMzQxNCAzNC4zMjk1MTEzLDgwIEM0Ny4wNTUzNDg5LDc3LjU2NzA4MDggNTMuNDE4MjY3Nyw3MC4zMTM2MTAzIDUzLjQxODI2NzcsNTguMjM5NTg4NSBDNTMuNDE4MjY3Nyw0MC4xMjg1NTU3IDM2LjMwMzk1NDQsMzcuNzMwNDQwNSAyNS4yMjc0MTcsMzcuNzMwNDQwNSBDMTcuODQzMDU4NiwzNy43MzA0NDA1IDkuNDMzOTE5NjYsMzcuNzMwNDQwNSAwLDM3LjczMDQ0MDUgWiIgaWQ9IlBhdGgtMTkiIGZpbGw9IiMzNzkzRUYiPjwvcGF0aD4KICAgICAgICAgICAgPC9nPgogICAgICAgIDwvZz4KICAgIDwvZz4KPC9zdmc+' > </img>\nCreated in <span style='font-weight:600;margin-left:4px;'>Deepnote</span></a>",
   "metadata": {
    "tags": [],
    "created_in_deepnote_cell": true,
    "deepnote_cell_type": "markdown"
   }
  }
 ],
 "nbformat": 4,
 "nbformat_minor": 2,
 "metadata": {
  "orig_nbformat": 2,
  "deepnote": {
   "is_reactive": false
  },
  "deepnote_notebook_id": "11f33fc9-288d-4094-8921-497f7a9e3a7b",
  "deepnote_execution_queue": []
 }
}